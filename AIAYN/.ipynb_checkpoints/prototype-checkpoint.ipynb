{
 "cells": [
  {
   "cell_type": "code",
   "execution_count": 1,
   "id": "f095ebbc-5782-4059-b9f0-a374b57172a6",
   "metadata": {},
   "outputs": [],
   "source": [
    "import torch\n",
    "import torch.nn as nn\n",
    "import torch.nn.functional as F\n",
    "import seaborn as sns"
   ]
  },
  {
   "cell_type": "code",
   "execution_count": 17,
   "id": "824faa7c-e965-4bf5-a6e3-ae01ec60a27c",
   "metadata": {},
   "outputs": [],
   "source": [
    "VOCAB_SIZE = 3  # hyperparameter depending on the task\n",
    "HEADS = 8\n",
    "EMBED_DIM = 512\n",
    "HEAD_DIM = EMBED_DIM // HEADS\n",
    "D_PROB = 0.1"
   ]
  },
  {
   "cell_type": "code",
   "execution_count": 18,
   "id": "ba51677f-71ed-40f8-b3b7-67230a021af5",
   "metadata": {},
   "outputs": [],
   "source": [
    "input_emb = nn.Embedding(num_embeddings=VOCAB_SIZE, embedding_dim=EMBED_DIM)\n",
    "output_emb = nn.Embedding(num_embeddings=VOCAB_SIZE, embedding_dim=EMBED_DIM)"
   ]
  },
  {
   "cell_type": "code",
   "execution_count": 19,
   "id": "dbbd9637-c5be-49fe-af38-83db5633a2ac",
   "metadata": {},
   "outputs": [
    {
     "data": {
      "text/plain": [
       "Embedding(3, 512)"
      ]
     },
     "execution_count": 19,
     "metadata": {},
     "output_type": "execute_result"
    }
   ],
   "source": [
    "input_emb"
   ]
  },
  {
   "cell_type": "code",
   "execution_count": 20,
   "id": "ca73ee4f-c0ea-438f-8d71-81e7b79125bd",
   "metadata": {},
   "outputs": [],
   "source": [
    "test = torch.LongTensor([[0, 1, 2], [2, 1, 0]])\n",
    "# input_emb(test)"
   ]
  },
  {
   "cell_type": "code",
   "execution_count": 21,
   "id": "0dcceeb1-0c1d-4f48-b222-607b5c0fde3d",
   "metadata": {},
   "outputs": [],
   "source": [
    "# output_emb(test)"
   ]
  },
  {
   "cell_type": "code",
   "execution_count": 22,
   "id": "4ee2e821-e69f-4955-9345-c29fae8bbdbc",
   "metadata": {},
   "outputs": [],
   "source": [
    "do = input_emb(test)"
   ]
  },
  {
   "cell_type": "markdown",
   "id": "8a59779f-b8b0-4d0f-b399-d940f96351ce",
   "metadata": {},
   "source": [
    "## Head"
   ]
  },
  {
   "cell_type": "code",
   "execution_count": 23,
   "id": "a600dc30-2608-43b4-a28c-ce69f23d796b",
   "metadata": {},
   "outputs": [],
   "source": [
    "key = nn.Linear(in_features=EMBED_DIM, out_features=HEAD_DIM, bias=False)\n",
    "query = nn.Linear(in_features=EMBED_DIM, out_features=HEAD_DIM, bias=False)\n",
    "value= nn.Linear(in_features=EMBED_DIM, out_features=HEAD_DIM, bias=False)\n",
    "\n",
    "# TODO: figure out register buffer\n",
    "# TODO: prototype tril\n",
    "register_buffer = ('mask', torch.tril(torch.ones(HEAD_DIM, HEAD_DIM), diagonal=1))\n",
    "\n",
    "dropout = nn.Dropout(D_PROB)\n",
    "\n",
    "# t for tokens, so I think this is words in this case\n",
    "_, t, d_k = do.size() \n",
    "k = key(do)\n",
    "q = query(do)\n",
    "v = value(do)\n",
    "qk = (q@k.transpose(-1, -2)) / d_k ** 0.5\n",
    "\n",
    "mask = torch.tril(torch.ones(HEAD_DIM, HEAD_DIM))\n",
    "\n",
    "# if mask:\n",
    "qk = qk.masked_fill(mask[:t, :t] == 0, float('-inf'))\n",
    "\n",
    "# 0 is among batches so ith, jth inputs in each batch add to 1, we don't want this\n",
    "# 1 is through the columns, which is the word so maybe\n",
    "# 2 is the word vector entirely\n",
    "qk = F.softmax(qk, dim=-1)\n",
    "attn = qk @ v\n",
    "\n",
    "# dropout occurs at the end of the sublayer before adding residual connections and layernorming\n",
    "attn\n",
    "attn = dropout(attn)"
   ]
  },
  {
   "cell_type": "code",
   "execution_count": 24,
   "id": "550b3078-90c8-49ef-abf2-a32eac2b5e18",
   "metadata": {},
   "outputs": [],
   "source": [
    "from model import Head"
   ]
  },
  {
   "cell_type": "code",
   "execution_count": 25,
   "id": "6ecf2cf8-37e4-406f-8668-5e1297c50fe9",
   "metadata": {},
   "outputs": [],
   "source": [
    "head = Head(HEAD_DIM, EMBED_DIM, True)"
   ]
  },
  {
   "cell_type": "code",
   "execution_count": 26,
   "id": "476d929d-d52e-44e9-8471-44149c529581",
   "metadata": {},
   "outputs": [
    {
     "data": {
      "text/plain": [
       "torch.Size([2, 3, 64])"
      ]
     },
     "execution_count": 26,
     "metadata": {},
     "output_type": "execute_result"
    }
   ],
   "source": [
    "head(do).size()"
   ]
  },
  {
   "cell_type": "markdown",
   "id": "0b12efb8-2c0d-4467-901c-152ec0bfc146",
   "metadata": {},
   "source": [
    "## MultiHeadAttention"
   ]
  },
  {
   "cell_type": "code",
   "execution_count": 27,
   "id": "e4121d05-d02c-49fe-aeb4-4142198bb934",
   "metadata": {},
   "outputs": [],
   "source": [
    "from model import MultiHeadAttention"
   ]
  },
  {
   "cell_type": "code",
   "execution_count": 28,
   "id": "1b8d9725-16cc-4c0b-9866-07b0521ec413",
   "metadata": {},
   "outputs": [
    {
     "ename": "TypeError",
     "evalue": "Head.__init__() missing 2 required positional arguments: 'embed_dim' and 'mask'",
     "output_type": "error",
     "traceback": [
      "\u001b[1;31m---------------------------------------------------------------------------\u001b[0m",
      "\u001b[1;31mTypeError\u001b[0m                                 Traceback (most recent call last)",
      "Cell \u001b[1;32mIn[28], line 1\u001b[0m\n\u001b[1;32m----> 1\u001b[0m \u001b[43mMultiHeadAttention\u001b[49m\u001b[43m(\u001b[49m\u001b[43mHEADS\u001b[49m\u001b[43m,\u001b[49m\u001b[43m \u001b[49m\u001b[43mHEAD_DIM\u001b[49m\u001b[43m)\u001b[49m\n",
      "File \u001b[1;32m~\\Documents\\Projects\\papers\\AIAYN\\model.py:53\u001b[0m, in \u001b[0;36m__init__\u001b[1;34m(self, num_heads, head_dim)\u001b[0m\n\u001b[0;32m     50\u001b[0m         \u001b[38;5;28;01mreturn\u001b[39;00m attn \n\u001b[0;32m     52\u001b[0m \u001b[38;5;66;03m# TODO: prototype to finish\u001b[39;00m\n\u001b[1;32m---> 53\u001b[0m \u001b[38;5;28;01mclass\u001b[39;00m \u001b[38;5;21;01mMultiHeadAttention\u001b[39;00m(nn\u001b[38;5;241m.\u001b[39mModule):\n\u001b[0;32m     54\u001b[0m \u001b[38;5;250m    \u001b[39m\u001b[38;5;124;03m\"\"\"Multiply above head by h, which is the number of heads. Key that this is a sublayer\"\"\"\u001b[39;00m\n\u001b[0;32m     55\u001b[0m     \u001b[38;5;28;01mdef\u001b[39;00m \u001b[38;5;21m__init__\u001b[39m(\u001b[38;5;28mself\u001b[39m, num_heads: \u001b[38;5;28mint\u001b[39m, head_dim: \u001b[38;5;28mint\u001b[39m):\n",
      "File \u001b[1;32m~\\Documents\\Projects\\papers\\AIAYN\\model.py:53\u001b[0m, in \u001b[0;36m<listcomp>\u001b[1;34m(.0)\u001b[0m\n\u001b[0;32m     50\u001b[0m         \u001b[38;5;28;01mreturn\u001b[39;00m attn \n\u001b[0;32m     52\u001b[0m \u001b[38;5;66;03m# TODO: prototype to finish\u001b[39;00m\n\u001b[1;32m---> 53\u001b[0m \u001b[38;5;28;01mclass\u001b[39;00m \u001b[38;5;21;01mMultiHeadAttention\u001b[39;00m(nn\u001b[38;5;241m.\u001b[39mModule):\n\u001b[0;32m     54\u001b[0m \u001b[38;5;250m    \u001b[39m\u001b[38;5;124;03m\"\"\"Multiply above head by h, which is the number of heads. Key that this is a sublayer\"\"\"\u001b[39;00m\n\u001b[0;32m     55\u001b[0m     \u001b[38;5;28;01mdef\u001b[39;00m \u001b[38;5;21m__init__\u001b[39m(\u001b[38;5;28mself\u001b[39m, num_heads: \u001b[38;5;28mint\u001b[39m, head_dim: \u001b[38;5;28mint\u001b[39m):\n",
      "\u001b[1;31mTypeError\u001b[0m: Head.__init__() missing 2 required positional arguments: 'embed_dim' and 'mask'"
     ]
    }
   ],
   "source": [
    "MultiHeadAttention(HEADS, HEAD_DIM, EMBED_DIM, MASK)"
   ]
  },
  {
   "cell_type": "code",
   "execution_count": null,
   "id": "9c6ce4f7-1353-4d1c-b99f-8003f73309a9",
   "metadata": {},
   "outputs": [],
   "source": []
  },
  {
   "cell_type": "code",
   "execution_count": null,
   "id": "547bdfb3-c1cb-4d3d-9843-bb6cf5e532c6",
   "metadata": {},
   "outputs": [],
   "source": []
  },
  {
   "cell_type": "code",
   "execution_count": null,
   "id": "58aac1da-cbbc-439b-8f05-8f0171d9c604",
   "metadata": {},
   "outputs": [],
   "source": []
  },
  {
   "cell_type": "code",
   "execution_count": null,
   "id": "6be8fbf3-9da8-4249-a50e-2a284932e51b",
   "metadata": {},
   "outputs": [],
   "source": []
  },
  {
   "cell_type": "code",
   "execution_count": null,
   "id": "6ad777ed-7f0d-42a5-b502-5f634bc48f92",
   "metadata": {},
   "outputs": [],
   "source": []
  },
  {
   "cell_type": "markdown",
   "id": "97f99fed-0da3-434c-accf-710e863e2573",
   "metadata": {},
   "source": [
    "## FeedForward"
   ]
  },
  {
   "cell_type": "code",
   "execution_count": null,
   "id": "163dfb6f-68ae-4f12-b7b6-2db4766ea44a",
   "metadata": {},
   "outputs": [],
   "source": []
  },
  {
   "cell_type": "code",
   "execution_count": null,
   "id": "18bae647-6543-4691-961b-322034129695",
   "metadata": {},
   "outputs": [],
   "source": []
  },
  {
   "cell_type": "code",
   "execution_count": null,
   "id": "0ee6a304-4e8b-4760-8979-070a1e8ef2c4",
   "metadata": {},
   "outputs": [],
   "source": []
  }
 ],
 "metadata": {
  "kernelspec": {
   "display_name": "Python 3 (ipykernel)",
   "language": "python",
   "name": "python3"
  },
  "language_info": {
   "codemirror_mode": {
    "name": "ipython",
    "version": 3
   },
   "file_extension": ".py",
   "mimetype": "text/x-python",
   "name": "python",
   "nbconvert_exporter": "python",
   "pygments_lexer": "ipython3",
   "version": "3.10.0"
  }
 },
 "nbformat": 4,
 "nbformat_minor": 5
}

{
 "cells": [
  {
   "cell_type": "code",
   "execution_count": 96,
   "id": "f095ebbc-5782-4059-b9f0-a374b57172a6",
   "metadata": {},
   "outputs": [],
   "source": [
    "import torch\n",
    "import torch.nn as nn\n",
    "import torch.nn.functional as F\n",
    "import seaborn as sns"
   ]
  },
  {
   "cell_type": "code",
   "execution_count": 97,
   "id": "824faa7c-e965-4bf5-a6e3-ae01ec60a27c",
   "metadata": {},
   "outputs": [],
   "source": [
    "VOCAB_SIZE = 3  # hyperparameter depending on the task\n",
    "HEAD_SIZE = 8\n",
    "EMBED_DIM = 512\n",
    "HEAD_DIM = EMBED_DIM // HEAD_SIZE\n",
    "D_PROB = 0.1"
   ]
  },
  {
   "cell_type": "code",
   "execution_count": 98,
   "id": "ba51677f-71ed-40f8-b3b7-67230a021af5",
   "metadata": {},
   "outputs": [],
   "source": [
    "input_emb = nn.Embedding(num_embeddings=VOCAB_SIZE, embedding_dim=EMBED_DIM)\n",
    "output_emb = nn.Embedding(num_embeddings=VOCAB_SIZE, embedding_dim=EMBED_DIM)"
   ]
  },
  {
   "cell_type": "code",
   "execution_count": 99,
   "id": "dbbd9637-c5be-49fe-af38-83db5633a2ac",
   "metadata": {},
   "outputs": [
    {
     "data": {
      "text/plain": [
       "Embedding(3, 512)"
      ]
     },
     "execution_count": 99,
     "metadata": {},
     "output_type": "execute_result"
    }
   ],
   "source": [
    "input_emb"
   ]
  },
  {
   "cell_type": "code",
   "execution_count": 100,
   "id": "ca73ee4f-c0ea-438f-8d71-81e7b79125bd",
   "metadata": {},
   "outputs": [
    {
     "data": {
      "text/plain": [
       "tensor([[[ 0.8298,  0.7541, -2.5595,  ..., -0.4663, -0.0916,  0.0522],\n",
       "         [-0.5042,  1.0342, -0.9056,  ..., -0.9664,  1.7603,  0.4307],\n",
       "         [ 0.6073, -1.5356, -0.1398,  ..., -0.7836, -1.1072, -0.0063]],\n",
       "\n",
       "        [[ 0.6073, -1.5356, -0.1398,  ..., -0.7836, -1.1072, -0.0063],\n",
       "         [-0.5042,  1.0342, -0.9056,  ..., -0.9664,  1.7603,  0.4307],\n",
       "         [ 0.8298,  0.7541, -2.5595,  ..., -0.4663, -0.0916,  0.0522]]],\n",
       "       grad_fn=<EmbeddingBackward0>)"
      ]
     },
     "execution_count": 100,
     "metadata": {},
     "output_type": "execute_result"
    }
   ],
   "source": [
    "test = torch.LongTensor([[0, 1, 2], [2, 1, 0]])\n",
    "input_emb(test)"
   ]
  },
  {
   "cell_type": "code",
   "execution_count": 101,
   "id": "0dcceeb1-0c1d-4f48-b222-607b5c0fde3d",
   "metadata": {},
   "outputs": [
    {
     "data": {
      "text/plain": [
       "tensor([[[-1.3393,  0.6358, -0.2444,  ..., -0.6236, -0.6232,  0.2485],\n",
       "         [-0.3652,  0.6962,  0.8543,  ..., -0.4979, -0.3453, -0.5259],\n",
       "         [ 1.4554, -0.7739,  0.0672,  ...,  0.8375, -0.0558, -0.6639]],\n",
       "\n",
       "        [[ 1.4554, -0.7739,  0.0672,  ...,  0.8375, -0.0558, -0.6639],\n",
       "         [-0.3652,  0.6962,  0.8543,  ..., -0.4979, -0.3453, -0.5259],\n",
       "         [-1.3393,  0.6358, -0.2444,  ..., -0.6236, -0.6232,  0.2485]]],\n",
       "       grad_fn=<EmbeddingBackward0>)"
      ]
     },
     "execution_count": 101,
     "metadata": {},
     "output_type": "execute_result"
    }
   ],
   "source": [
    "output_emb(test)"
   ]
  },
  {
   "cell_type": "code",
   "execution_count": 102,
   "id": "a600dc30-2608-43b4-a28c-ce69f23d796b",
   "metadata": {},
   "outputs": [],
   "source": [
    "key = nn.Linear(in_features=EMBED_DIM, out_features=HEAD_DIM, bias=False)\n",
    "query = nn.Linear(in_features=EMBED_DIM, out_features=HEAD_DIM, bias=False)\n",
    "value= nn.Linear(in_features=EMBED_DIM, out_features=HEAD_DIM, bias=False)\n",
    "\n",
    "# TODO: figure out register buffer\n",
    "# TODO: prototype tril\n",
    "register_buffer = ('mask', torch.tril(torch.ones(HEAD_DIM, HEAD_DIM), diagonal=1))\n",
    "\n",
    "dropout = nn.Dropout(D_PROB)\n",
    "\n",
    "# t for tokens, so I think this is words in this case\n",
    "_, t, d_k = do.size() \n",
    "k = key(do)\n",
    "q = query(do)\n",
    "v = value(do)\n",
    "qk = (q@k.transpose(-1, -2)) / d_k ** 0.5\n",
    "\n",
    "mask = torch.tril(torch.ones(HEAD_DIM, HEAD_DIM))\n",
    "\n",
    "# if mask:\n",
    "qk = qk.masked_fill(mask[:t, :t] == 0, float('-inf'))\n",
    "\n",
    "# 0 is among batches so ith, jth inputs in each batch add to 1, we don't want this\n",
    "# 1 is through the columns, which is the word so maybe\n",
    "# 2 is the word vector entirely\n",
    "qk = F.softmax(qk, dim=-1)\n",
    "attn = qk @ v\n",
    "\n",
    "# dropout occurs at the end of the sublayer before adding residual connections and layernorming\n",
    "attn\n",
    "attn = dropout(attn)"
   ]
  },
  {
   "cell_type": "code",
   "execution_count": 103,
   "id": "550b3078-90c8-49ef-abf2-a32eac2b5e18",
   "metadata": {},
   "outputs": [],
   "source": [
    "from model import Head"
   ]
  },
  {
   "cell_type": "code",
   "execution_count": 104,
   "id": "6ecf2cf8-37e4-406f-8668-5e1297c50fe9",
   "metadata": {},
   "outputs": [
    {
     "ename": "TypeError",
     "evalue": "Head.__init__() missing 1 required positional argument: 'head_dim'",
     "output_type": "error",
     "traceback": [
      "\u001b[1;31m---------------------------------------------------------------------------\u001b[0m",
      "\u001b[1;31mTypeError\u001b[0m                                 Traceback (most recent call last)",
      "Cell \u001b[1;32mIn[104], line 1\u001b[0m\n\u001b[1;32m----> 1\u001b[0m head \u001b[38;5;241m=\u001b[39m \u001b[43mHead\u001b[49m\u001b[43m(\u001b[49m\u001b[43m)\u001b[49m\n",
      "\u001b[1;31mTypeError\u001b[0m: Head.__init__() missing 1 required positional argument: 'head_dim'"
     ]
    }
   ],
   "source": [
    "head = Head(HEAD_DIM)"
   ]
  },
  {
   "cell_type": "code",
   "execution_count": null,
   "id": "5d627dc2-775b-4feb-ac03-9dc05bca96d1",
   "metadata": {},
   "outputs": [],
   "source": []
  }
 ],
 "metadata": {
  "kernelspec": {
   "display_name": "Python 3 (ipykernel)",
   "language": "python",
   "name": "python3"
  },
  "language_info": {
   "codemirror_mode": {
    "name": "ipython",
    "version": 3
   },
   "file_extension": ".py",
   "mimetype": "text/x-python",
   "name": "python",
   "nbconvert_exporter": "python",
   "pygments_lexer": "ipython3",
   "version": "3.10.0"
  }
 },
 "nbformat": 4,
 "nbformat_minor": 5
}

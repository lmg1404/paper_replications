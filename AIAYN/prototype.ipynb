{
 "cells": [
  {
   "cell_type": "code",
   "execution_count": 1,
   "id": "f095ebbc-5782-4059-b9f0-a374b57172a6",
   "metadata": {},
   "outputs": [],
   "source": [
    "import torch\n",
    "import torch.nn as nn\n",
    "import torch.nn.functional as F\n",
    "import seaborn as sns"
   ]
  },
  {
   "cell_type": "code",
   "execution_count": 2,
   "id": "824faa7c-e965-4bf5-a6e3-ae01ec60a27c",
   "metadata": {},
   "outputs": [],
   "source": [
    "VOCAB_SIZE = 3  # hyperparameter depending on the task\n",
    "HEAD_SIZE = 8\n",
    "EMBED_DIM = 512\n",
    "HEAD_DIM = EMBED_DIM // HEAD_SIZE\n",
    "D_PROB = 0.1"
   ]
  },
  {
   "cell_type": "code",
   "execution_count": 3,
   "id": "ba51677f-71ed-40f8-b3b7-67230a021af5",
   "metadata": {},
   "outputs": [],
   "source": [
    "input_emb = nn.Embedding(num_embeddings=VOCAB_SIZE, embedding_dim=EMBED_DIM)\n",
    "output_emb = nn.Embedding(num_embeddings=VOCAB_SIZE, embedding_dim=EMBED_DIM)"
   ]
  },
  {
   "cell_type": "code",
   "execution_count": 4,
   "id": "dbbd9637-c5be-49fe-af38-83db5633a2ac",
   "metadata": {},
   "outputs": [
    {
     "data": {
      "text/plain": [
       "Embedding(3, 512)"
      ]
     },
     "execution_count": 4,
     "metadata": {},
     "output_type": "execute_result"
    }
   ],
   "source": [
    "input_emb"
   ]
  },
  {
   "cell_type": "code",
   "execution_count": 5,
   "id": "ca73ee4f-c0ea-438f-8d71-81e7b79125bd",
   "metadata": {},
   "outputs": [],
   "source": [
    "test = torch.LongTensor([[0, 1, 2], [2, 1, 0]])\n",
    "# input_emb(test)"
   ]
  },
  {
   "cell_type": "code",
   "execution_count": 6,
   "id": "0dcceeb1-0c1d-4f48-b222-607b5c0fde3d",
   "metadata": {},
   "outputs": [],
   "source": [
    "# output_emb(test)"
   ]
  },
  {
   "cell_type": "code",
   "execution_count": 7,
   "id": "4ee2e821-e69f-4955-9345-c29fae8bbdbc",
   "metadata": {},
   "outputs": [],
   "source": [
    "do = input_emb(test)"
   ]
  },
  {
   "cell_type": "markdown",
   "id": "8a59779f-b8b0-4d0f-b399-d940f96351ce",
   "metadata": {},
   "source": [
    "## Head"
   ]
  },
  {
   "cell_type": "code",
   "execution_count": 8,
   "id": "a600dc30-2608-43b4-a28c-ce69f23d796b",
   "metadata": {},
   "outputs": [],
   "source": [
    "key = nn.Linear(in_features=EMBED_DIM, out_features=HEAD_DIM, bias=False)\n",
    "query = nn.Linear(in_features=EMBED_DIM, out_features=HEAD_DIM, bias=False)\n",
    "value= nn.Linear(in_features=EMBED_DIM, out_features=HEAD_DIM, bias=False)\n",
    "\n",
    "# TODO: figure out register buffer\n",
    "# TODO: prototype tril\n",
    "register_buffer = ('mask', torch.tril(torch.ones(HEAD_DIM, HEAD_DIM), diagonal=1))\n",
    "\n",
    "dropout = nn.Dropout(D_PROB)\n",
    "\n",
    "# t for tokens, so I think this is words in this case\n",
    "_, t, d_k = do.size() \n",
    "k = key(do)\n",
    "q = query(do)\n",
    "v = value(do)\n",
    "qk = (q@k.transpose(-1, -2)) / d_k ** 0.5\n",
    "\n",
    "mask = torch.tril(torch.ones(HEAD_DIM, HEAD_DIM))\n",
    "\n",
    "# if mask:\n",
    "qk = qk.masked_fill(mask[:t, :t] == 0, float('-inf'))\n",
    "\n",
    "# 0 is among batches so ith, jth inputs in each batch add to 1, we don't want this\n",
    "# 1 is through the columns, which is the word so maybe\n",
    "# 2 is the word vector entirely\n",
    "qk = F.softmax(qk, dim=-1)\n",
    "attn = qk @ v\n",
    "\n",
    "# dropout occurs at the end of the sublayer before adding residual connections and layernorming\n",
    "attn\n",
    "attn = dropout(attn)"
   ]
  },
  {
   "cell_type": "code",
   "execution_count": 9,
   "id": "550b3078-90c8-49ef-abf2-a32eac2b5e18",
   "metadata": {},
   "outputs": [],
   "source": [
    "from model import Head"
   ]
  },
  {
   "cell_type": "code",
   "execution_count": 10,
   "id": "6ecf2cf8-37e4-406f-8668-5e1297c50fe9",
   "metadata": {},
   "outputs": [],
   "source": [
    "head = Head(HEAD_DIM, EMBED_DIM, True)"
   ]
  },
  {
   "cell_type": "code",
   "execution_count": 11,
   "id": "476d929d-d52e-44e9-8471-44149c529581",
   "metadata": {},
   "outputs": [
    {
     "data": {
      "text/plain": [
       "tensor([[[ 0.1171, -0.5505,  0.0581, -0.7633, -0.9508,  0.8183,  0.3414,\n",
       "           0.1193, -1.4610, -0.0232,  0.6588,  0.4555,  0.3613,  1.0119,\n",
       "          -0.3905, -0.0000,  0.4997, -0.1334, -0.5695, -0.0000,  0.3129,\n",
       "           0.2666,  0.4904,  0.5295, -0.0000,  0.4692,  0.3543,  0.1892,\n",
       "          -0.0409, -0.0519, -0.6427,  0.4843, -0.1171,  0.0576, -0.6077,\n",
       "          -0.3501, -0.7259, -0.1448, -0.1822, -0.3695,  1.1058, -0.0706,\n",
       "           0.1943, -0.0617, -0.5871, -0.4608,  0.0000, -0.7178,  0.5932,\n",
       "           0.8951,  0.9512,  0.0851,  0.1158,  0.0858,  0.0000,  0.2757,\n",
       "           0.5213,  0.1205,  0.2625,  0.2627,  0.0124, -0.3538, -0.0651,\n",
       "           0.1656],\n",
       "         [ 0.2210, -0.3557, -0.0000, -0.5374, -0.4832,  0.2423,  0.0770,\n",
       "          -0.0420, -1.2833,  0.1929,  0.2659,  0.4930,  0.1157,  0.5163,\n",
       "          -0.4020,  0.0780,  0.2587, -0.0155, -0.5388, -0.6044,  0.3078,\n",
       "           0.2206,  0.4595,  0.3112, -0.0000,  0.0618,  0.2753,  0.1026,\n",
       "          -0.2094, -0.3854, -0.3822,  0.6030, -0.3000, -0.0792, -0.6365,\n",
       "          -0.4326, -0.0744, -0.2413, -0.0236, -0.4320,  0.6203, -0.0720,\n",
       "           0.3766,  0.0381, -0.3886, -0.4616,  0.7232, -0.7640,  0.2566,\n",
       "           0.3306,  0.4975,  0.1655, -0.0550, -0.1609,  0.8595,  0.2041,\n",
       "           0.1884,  0.1498,  0.3619,  0.3297,  0.0000, -0.5307, -0.2016,\n",
       "          -0.0250],\n",
       "         [ 0.1914, -0.3542, -0.0239, -0.4973, -0.0000,  0.1783,  0.0597,\n",
       "          -0.0786, -1.2830,  0.1931,  0.2180,  0.4470,  0.0738,  0.4889,\n",
       "          -0.3831,  0.0728,  0.2201, -0.0221, -0.0000, -0.5957,  0.3370,\n",
       "           0.1930,  0.4857,  0.0000, -0.3799,  0.0017,  0.2191,  0.0543,\n",
       "          -0.2122, -0.3866, -0.3533,  0.0000, -0.2973, -0.0888, -0.6309,\n",
       "          -0.4208, -0.0129, -0.2653, -0.0133, -0.4965,  0.5541, -0.0552,\n",
       "           0.3949,  0.0000, -0.3811, -0.4451,  0.6962, -0.8173,  0.2621,\n",
       "           0.3000,  0.4407,  0.1782, -0.0338, -0.2152,  0.8695,  0.1844,\n",
       "           0.1870,  0.1742,  0.3627,  0.3328,  0.2144, -0.0000, -0.1658,\n",
       "          -0.0193]],\n",
       "\n",
       "        [[-0.0635, -0.3812,  0.0271, -0.2250, -0.0000, -0.2132, -0.0242,\n",
       "          -0.3363, -1.3168,  0.1514, -0.0831,  0.0747, -0.2083,  0.3708,\n",
       "          -0.2316,  0.0068, -0.0374, -0.0976, -0.3925, -0.5758,  0.5688,\n",
       "          -0.0159,  0.6992,  0.0407, -0.8132, -0.0000, -0.2100, -0.3106,\n",
       "          -0.0000, -0.3301, -0.1770,  0.5662, -0.2389, -0.1378, -0.5803,\n",
       "          -0.3115,  0.3438, -0.4359,  0.0368, -0.9946,  0.1270,  0.0786,\n",
       "           0.5030, -0.0000, -0.3609, -0.3146,  0.5580, -0.0000,  0.3730,\n",
       "           0.1710,  0.0813,  0.0000,  0.1680, -0.5959,  0.0000,  0.0428,\n",
       "           0.2429,  0.3613,  0.3492,  0.3434,  0.1809, -0.3564,  0.1448,\n",
       "           0.0641],\n",
       "         [ 0.2210, -0.3557, -0.0282, -0.5374, -0.4832,  0.2423,  0.0770,\n",
       "          -0.0420, -1.2833,  0.1929,  0.2659,  0.4930,  0.1157,  0.5163,\n",
       "          -0.4020,  0.0780,  0.2587, -0.0155, -0.0000, -0.6044,  0.3078,\n",
       "           0.2206,  0.4595,  0.3112, -0.3240,  0.0618,  0.2753,  0.1026,\n",
       "          -0.2094, -0.3854, -0.3822,  0.6030, -0.3000, -0.0792, -0.6365,\n",
       "          -0.4326, -0.0744, -0.2413, -0.0236, -0.4320,  0.6203, -0.0720,\n",
       "           0.3766,  0.0381, -0.3886, -0.4616,  0.7232, -0.7640,  0.0000,\n",
       "           0.3306,  0.4975,  0.1655, -0.0550, -0.1609,  0.8595,  0.2041,\n",
       "           0.1884,  0.1498,  0.3619,  0.3297,  0.2135, -0.0000, -0.2016,\n",
       "          -0.0250],\n",
       "         [ 0.2980, -0.3037, -0.0592, -0.5392, -0.3591,  0.1851,  0.0311,\n",
       "          -0.0278, -1.2340,  0.2530,  0.2338,  0.5782,  0.1148,  0.4223,\n",
       "          -0.4357,  0.1208,  0.2539,  0.0280, -0.5579, -0.5495,  0.2591,\n",
       "           0.2524,  0.0000,  0.0000, -0.2462,  0.0454,  0.3443,  0.1567,\n",
       "          -0.2518, -0.4765, -0.0000,  0.6386, -0.3556, -0.1018, -0.0000,\n",
       "          -0.4746,  0.0079, -0.2294,  0.0039, -0.3450,  0.5918, -0.0998,\n",
       "           0.3979,  0.0773, -0.3454, -0.4885,  0.6614, -0.6905,  0.1537,\n",
       "           0.2224,  0.0000,  0.1675, -0.1370, -0.0000,  0.8776,  0.2160,\n",
       "           0.0975,  0.1185,  0.3884,  0.3435,  0.2683, -0.6054, -0.2978,\n",
       "          -0.0875]]], grad_fn=<MulBackward0>)"
      ]
     },
     "execution_count": 11,
     "metadata": {},
     "output_type": "execute_result"
    }
   ],
   "source": [
    "head(do)"
   ]
  },
  {
   "cell_type": "markdown",
   "id": "0b12efb8-2c0d-4467-901c-152ec0bfc146",
   "metadata": {},
   "source": [
    "## MultiHeadAttention"
   ]
  },
  {
   "cell_type": "code",
   "execution_count": null,
   "id": "e4121d05-d02c-49fe-aeb4-4142198bb934",
   "metadata": {},
   "outputs": [],
   "source": []
  },
  {
   "cell_type": "markdown",
   "id": "97f99fed-0da3-434c-accf-710e863e2573",
   "metadata": {},
   "source": [
    "## FeedForward"
   ]
  },
  {
   "cell_type": "code",
   "execution_count": null,
   "id": "163dfb6f-68ae-4f12-b7b6-2db4766ea44a",
   "metadata": {},
   "outputs": [],
   "source": []
  },
  {
   "cell_type": "code",
   "execution_count": null,
   "id": "18bae647-6543-4691-961b-322034129695",
   "metadata": {},
   "outputs": [],
   "source": []
  },
  {
   "cell_type": "code",
   "execution_count": null,
   "id": "0ee6a304-4e8b-4760-8979-070a1e8ef2c4",
   "metadata": {},
   "outputs": [],
   "source": []
  }
 ],
 "metadata": {
  "kernelspec": {
   "display_name": "Python 3 (ipykernel)",
   "language": "python",
   "name": "python3"
  },
  "language_info": {
   "codemirror_mode": {
    "name": "ipython",
    "version": 3
   },
   "file_extension": ".py",
   "mimetype": "text/x-python",
   "name": "python",
   "nbconvert_exporter": "python",
   "pygments_lexer": "ipython3",
   "version": "3.10.0"
  }
 },
 "nbformat": 4,
 "nbformat_minor": 5
}

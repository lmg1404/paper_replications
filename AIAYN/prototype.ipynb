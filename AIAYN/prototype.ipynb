{
 "cells": [
  {
   "cell_type": "code",
   "execution_count": 1,
   "id": "f095ebbc-5782-4059-b9f0-a374b57172a6",
   "metadata": {},
   "outputs": [
    {
     "data": {
      "text/plain": [
       "<torch._C.Generator at 0x1f7b8d9b910>"
      ]
     },
     "execution_count": 1,
     "metadata": {},
     "output_type": "execute_result"
    }
   ],
   "source": [
    "import torch\n",
    "import torch.nn as nn\n",
    "import torch.nn.functional as F\n",
    "import seaborn as sns\n",
    "\n",
    "torch.manual_seed(42)"
   ]
  },
  {
   "cell_type": "code",
   "execution_count": 2,
   "id": "824faa7c-e965-4bf5-a6e3-ae01ec60a27c",
   "metadata": {},
   "outputs": [],
   "source": [
    "VOCAB_SIZE = 3  # hyperparameter depending on the task\n",
    "HEADS = 8\n",
    "EMBED_DIM = 512\n",
    "HEAD_DIM = EMBED_DIM // HEADS\n",
    "D_PROB = 0.1"
   ]
  },
  {
   "cell_type": "code",
   "execution_count": 3,
   "id": "ba51677f-71ed-40f8-b3b7-67230a021af5",
   "metadata": {},
   "outputs": [],
   "source": [
    "input_emb = nn.Embedding(num_embeddings=VOCAB_SIZE, embedding_dim=EMBED_DIM)\n",
    "output_emb = nn.Embedding(num_embeddings=VOCAB_SIZE, embedding_dim=EMBED_DIM)"
   ]
  },
  {
   "cell_type": "code",
   "execution_count": 4,
   "id": "dbbd9637-c5be-49fe-af38-83db5633a2ac",
   "metadata": {},
   "outputs": [
    {
     "data": {
      "text/plain": [
       "Embedding(3, 512)"
      ]
     },
     "execution_count": 4,
     "metadata": {},
     "output_type": "execute_result"
    }
   ],
   "source": [
    "input_emb"
   ]
  },
  {
   "cell_type": "code",
   "execution_count": 5,
   "id": "ca73ee4f-c0ea-438f-8d71-81e7b79125bd",
   "metadata": {},
   "outputs": [],
   "source": [
    "test = torch.LongTensor([[0, 1, 2], [2, 1, 0]])\n",
    "# input_emb(test)"
   ]
  },
  {
   "cell_type": "code",
   "execution_count": 6,
   "id": "0dcceeb1-0c1d-4f48-b222-607b5c0fde3d",
   "metadata": {},
   "outputs": [],
   "source": [
    "# output_emb(test)"
   ]
  },
  {
   "cell_type": "code",
   "execution_count": 7,
   "id": "4ee2e821-e69f-4955-9345-c29fae8bbdbc",
   "metadata": {},
   "outputs": [],
   "source": [
    "do = input_emb(test)"
   ]
  },
  {
   "cell_type": "markdown",
   "id": "8a59779f-b8b0-4d0f-b399-d940f96351ce",
   "metadata": {
    "jp-MarkdownHeadingCollapsed": true
   },
   "source": [
    "## Head"
   ]
  },
  {
   "cell_type": "code",
   "execution_count": 8,
   "id": "a600dc30-2608-43b4-a28c-ce69f23d796b",
   "metadata": {},
   "outputs": [],
   "source": [
    "key = nn.Linear(in_features=EMBED_DIM, out_features=HEAD_DIM, bias=False)\n",
    "query = nn.Linear(in_features=EMBED_DIM, out_features=HEAD_DIM, bias=False)\n",
    "value= nn.Linear(in_features=EMBED_DIM, out_features=HEAD_DIM, bias=False)\n",
    "\n",
    "# TODO: figure out register buffer\n",
    "# TODO: prototype tril\n",
    "register_buffer = ('mask', torch.tril(torch.ones(HEAD_DIM, HEAD_DIM), diagonal=1))\n",
    "\n",
    "dropout = nn.Dropout(D_PROB)\n",
    "\n",
    "# t for tokens, so I think this is words in this case\n",
    "_, t, d_k = do.size() \n",
    "k = key(do)\n",
    "q = query(do)\n",
    "v = value(do)\n",
    "qk = (q@k.transpose(-1, -2)) / d_k ** 0.5\n",
    "\n",
    "mask = torch.tril(torch.ones(HEAD_DIM, HEAD_DIM))\n",
    "\n",
    "# if mask:\n",
    "qk = qk.masked_fill(mask[:t, :t] == 0, float('-inf'))\n",
    "\n",
    "# 0 is among batches so ith, jth inputs in each batch add to 1, we don't want this\n",
    "# 1 is through the columns, which is the word so maybe\n",
    "# 2 is the word vector entirely\n",
    "qk = F.softmax(qk, dim=-1)\n",
    "attn = qk @ v\n",
    "\n",
    "# dropout occurs at the end of the sublayer before adding residual connections and layernorming\n",
    "attn\n",
    "attn = dropout(attn)"
   ]
  },
  {
   "cell_type": "code",
   "execution_count": 9,
   "id": "550b3078-90c8-49ef-abf2-a32eac2b5e18",
   "metadata": {},
   "outputs": [],
   "source": [
    "from model import Head"
   ]
  },
  {
   "cell_type": "code",
   "execution_count": 10,
   "id": "6ecf2cf8-37e4-406f-8668-5e1297c50fe9",
   "metadata": {},
   "outputs": [],
   "source": [
    "head = Head(HEAD_DIM, EMBED_DIM, True)"
   ]
  },
  {
   "cell_type": "markdown",
   "id": "0b12efb8-2c0d-4467-901c-152ec0bfc146",
   "metadata": {
    "jp-MarkdownHeadingCollapsed": true
   },
   "source": [
    "## MultiHeadAttention"
   ]
  },
  {
   "cell_type": "code",
   "execution_count": 11,
   "id": "e4121d05-d02c-49fe-aeb4-4142198bb934",
   "metadata": {},
   "outputs": [],
   "source": [
    "from model import MultiHeadAttention"
   ]
  },
  {
   "cell_type": "code",
   "execution_count": 12,
   "id": "1b8d9725-16cc-4c0b-9866-07b0521ec413",
   "metadata": {},
   "outputs": [],
   "source": [
    "mha = MultiHeadAttention(HEADS, HEAD_DIM, EMBED_DIM, mask=True)\n",
    "multi = mha(do, do, do)"
   ]
  },
  {
   "cell_type": "code",
   "execution_count": 13,
   "id": "9c6ce4f7-1353-4d1c-b99f-8003f73309a9",
   "metadata": {},
   "outputs": [
    {
     "data": {
      "text/plain": [
       "(False, True)"
      ]
     },
     "execution_count": 13,
     "metadata": {},
     "output_type": "execute_result"
    }
   ],
   "source": [
    "torch.all(multi == do).item(), multi.size() == do.size() # we want this"
   ]
  },
  {
   "cell_type": "markdown",
   "id": "97f99fed-0da3-434c-accf-710e863e2573",
   "metadata": {
    "jp-MarkdownHeadingCollapsed": true
   },
   "source": [
    "## FeedForward"
   ]
  },
  {
   "cell_type": "code",
   "execution_count": 14,
   "id": "163dfb6f-68ae-4f12-b7b6-2db4766ea44a",
   "metadata": {},
   "outputs": [],
   "source": [
    "from model import FeedForward"
   ]
  },
  {
   "cell_type": "code",
   "execution_count": 15,
   "id": "18bae647-6543-4691-961b-322034129695",
   "metadata": {},
   "outputs": [
    {
     "data": {
      "text/plain": [
       "torch.Size([2, 3, 512])"
      ]
     },
     "execution_count": 15,
     "metadata": {},
     "output_type": "execute_result"
    }
   ],
   "source": [
    "ff = FeedForward(EMBED_DIM)\n",
    "ff(multi).size()"
   ]
  },
  {
   "cell_type": "code",
   "execution_count": 16,
   "id": "0ee6a304-4e8b-4760-8979-070a1e8ef2c4",
   "metadata": {},
   "outputs": [
    {
     "data": {
      "text/plain": [
       "torch.Size([2, 3, 512])"
      ]
     },
     "execution_count": 16,
     "metadata": {},
     "output_type": "execute_result"
    }
   ],
   "source": [
    "multi.size()"
   ]
  },
  {
   "cell_type": "markdown",
   "id": "26c291f6-d82f-4961-a4a5-1c491b2d92f1",
   "metadata": {},
   "source": [
    "## Encoder Block"
   ]
  },
  {
   "cell_type": "code",
   "execution_count": 17,
   "id": "8200dbc9-bc35-4162-ba20-70c0f1062fa8",
   "metadata": {},
   "outputs": [],
   "source": [
    "from model import EncoderBlock"
   ]
  },
  {
   "cell_type": "code",
   "execution_count": 18,
   "id": "9b02d459-61fd-44f0-a3ba-bd1f91d4d127",
   "metadata": {},
   "outputs": [],
   "source": [
    "eb = EncoderBlock(HEADS, EMBED_DIM)\n",
    "enc = eb(do)"
   ]
  },
  {
   "cell_type": "code",
   "execution_count": 19,
   "id": "42d32412-6995-45ee-8efe-7b2f02950374",
   "metadata": {},
   "outputs": [
    {
     "data": {
      "text/plain": [
       "torch.Size([2, 3, 512])"
      ]
     },
     "execution_count": 19,
     "metadata": {},
     "output_type": "execute_result"
    }
   ],
   "source": [
    "enc.size()"
   ]
  },
  {
   "cell_type": "markdown",
   "id": "0554440a-ee56-4a1a-b1e0-f866d2f20c31",
   "metadata": {},
   "source": [
    "## Decoder Block"
   ]
  },
  {
   "cell_type": "code",
   "execution_count": 20,
   "id": "95f9416b-1e73-40cb-85fd-f97e54026eb8",
   "metadata": {},
   "outputs": [],
   "source": [
    "from model import DecoderBlock"
   ]
  },
  {
   "cell_type": "code",
   "execution_count": 22,
   "id": "b33135be-68c0-4ff6-8053-0b84019301eb",
   "metadata": {},
   "outputs": [
    {
     "data": {
      "text/plain": [
       "torch.Size([2, 3, 512])"
      ]
     },
     "execution_count": 22,
     "metadata": {},
     "output_type": "execute_result"
    }
   ],
   "source": [
    "db = DecoderBlock(HEADS, EMBED_DIM)\n",
    "db(do, enc).size()"
   ]
  },
  {
   "cell_type": "markdown",
   "id": "b5426f9b-7d10-48d7-9ccf-3caf59129a93",
   "metadata": {},
   "source": [
    "## Positional Encodings"
   ]
  },
  {
   "cell_type": "code",
   "execution_count": null,
   "id": "de1a8462-bc72-4af5-91f6-45e06d78281d",
   "metadata": {},
   "outputs": [],
   "source": []
  }
 ],
 "metadata": {
  "kernelspec": {
   "display_name": "Python 3 (ipykernel)",
   "language": "python",
   "name": "python3"
  },
  "language_info": {
   "codemirror_mode": {
    "name": "ipython",
    "version": 3
   },
   "file_extension": ".py",
   "mimetype": "text/x-python",
   "name": "python",
   "nbconvert_exporter": "python",
   "pygments_lexer": "ipython3",
   "version": "3.10.0"
  }
 },
 "nbformat": 4,
 "nbformat_minor": 5
}

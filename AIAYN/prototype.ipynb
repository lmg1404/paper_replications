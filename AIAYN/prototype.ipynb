{
 "cells": [
  {
   "cell_type": "code",
   "execution_count": 129,
   "id": "f095ebbc-5782-4059-b9f0-a374b57172a6",
   "metadata": {},
   "outputs": [
    {
     "data": {
      "text/plain": [
       "<torch._C.Generator at 0x1d8d6f2f8b0>"
      ]
     },
     "execution_count": 129,
     "metadata": {},
     "output_type": "execute_result"
    }
   ],
   "source": [
    "import torch\n",
    "import torch.nn as nn\n",
    "import torch.nn.functional as F\n",
    "import seaborn as sns\n",
    "import matplotlib.pyplot as plt\n",
    "import os\n",
    "\n",
    "os.environ[\"KMP_DUPLICATE_LIB_OK\"]=\"TRUE\"\n",
    "torch.manual_seed(42)"
   ]
  },
  {
   "cell_type": "code",
   "execution_count": 130,
   "id": "824faa7c-e965-4bf5-a6e3-ae01ec60a27c",
   "metadata": {},
   "outputs": [],
   "source": [
    "VOCAB_SIZE = 3  # hyperparameter depending on the task\n",
    "HEADS = 8\n",
    "EMBED_DIM = 512\n",
    "HEAD_DIM = EMBED_DIM // HEADS\n",
    "D_PROB = 0.1"
   ]
  },
  {
   "cell_type": "code",
   "execution_count": 131,
   "id": "ba51677f-71ed-40f8-b3b7-67230a021af5",
   "metadata": {},
   "outputs": [],
   "source": [
    "input_emb = nn.Embedding(num_embeddings=VOCAB_SIZE, embedding_dim=EMBED_DIM)\n",
    "output_emb = nn.Embedding(num_embeddings=VOCAB_SIZE, embedding_dim=EMBED_DIM)"
   ]
  },
  {
   "cell_type": "code",
   "execution_count": 132,
   "id": "dbbd9637-c5be-49fe-af38-83db5633a2ac",
   "metadata": {},
   "outputs": [
    {
     "data": {
      "text/plain": [
       "Embedding(3, 512)"
      ]
     },
     "execution_count": 132,
     "metadata": {},
     "output_type": "execute_result"
    }
   ],
   "source": [
    "input_emb"
   ]
  },
  {
   "cell_type": "code",
   "execution_count": 133,
   "id": "ca73ee4f-c0ea-438f-8d71-81e7b79125bd",
   "metadata": {},
   "outputs": [],
   "source": [
    "test = torch.LongTensor([[0, 1, 2], [2, 1, 0]])"
   ]
  },
  {
   "cell_type": "code",
   "execution_count": 134,
   "id": "4ee2e821-e69f-4955-9345-c29fae8bbdbc",
   "metadata": {},
   "outputs": [],
   "source": [
    "do = input_emb(test)"
   ]
  },
  {
   "cell_type": "markdown",
   "id": "8a59779f-b8b0-4d0f-b399-d940f96351ce",
   "metadata": {
    "jp-MarkdownHeadingCollapsed": true
   },
   "source": [
    "## Head"
   ]
  },
  {
   "cell_type": "code",
   "execution_count": 135,
   "id": "a600dc30-2608-43b4-a28c-ce69f23d796b",
   "metadata": {},
   "outputs": [],
   "source": [
    "key = nn.Linear(in_features=EMBED_DIM, out_features=HEAD_DIM, bias=False)\n",
    "query = nn.Linear(in_features=EMBED_DIM, out_features=HEAD_DIM, bias=False)\n",
    "value= nn.Linear(in_features=EMBED_DIM, out_features=HEAD_DIM, bias=False)\n",
    "\n",
    "# TODO: figure out register buffer\n",
    "# TODO: prototype tril\n",
    "register_buffer = ('mask', torch.tril(torch.ones(HEAD_DIM, HEAD_DIM), diagonal=1))\n",
    "\n",
    "dropout = nn.Dropout(D_PROB)\n",
    "\n",
    "# t for tokens, so I think this is words in this case\n",
    "_, t, d_k = do.size() \n",
    "k = key(do)\n",
    "q = query(do)\n",
    "v = value(do)\n",
    "qk = (q@k.transpose(-1, -2)) / d_k ** 0.5\n",
    "\n",
    "mask = torch.tril(torch.ones(HEAD_DIM, HEAD_DIM))\n",
    "\n",
    "# if mask:\n",
    "qk = qk.masked_fill(mask[:t, :t] == 0, float('-inf'))\n",
    "\n",
    "# 0 is among batches so ith, jth inputs in each batch add to 1, we don't want this\n",
    "# 1 is through the columns, which is the word so maybe\n",
    "# 2 is the word vector entirely\n",
    "qk = F.softmax(qk, dim=-1)\n",
    "attn = qk @ v\n",
    "\n",
    "# dropout occurs at the end of the sublayer before adding residual connections and layernorming\n",
    "attn\n",
    "attn = dropout(attn)"
   ]
  },
  {
   "cell_type": "code",
   "execution_count": 136,
   "id": "550b3078-90c8-49ef-abf2-a32eac2b5e18",
   "metadata": {},
   "outputs": [],
   "source": [
    "from model import Head"
   ]
  },
  {
   "cell_type": "code",
   "execution_count": 137,
   "id": "6ecf2cf8-37e4-406f-8668-5e1297c50fe9",
   "metadata": {},
   "outputs": [],
   "source": [
    "head = Head(HEAD_DIM, EMBED_DIM, True)"
   ]
  },
  {
   "cell_type": "markdown",
   "id": "0b12efb8-2c0d-4467-901c-152ec0bfc146",
   "metadata": {
    "jp-MarkdownHeadingCollapsed": true
   },
   "source": [
    "## MultiHeadAttention"
   ]
  },
  {
   "cell_type": "code",
   "execution_count": 138,
   "id": "e4121d05-d02c-49fe-aeb4-4142198bb934",
   "metadata": {},
   "outputs": [],
   "source": [
    "from model import MultiHeadAttention"
   ]
  },
  {
   "cell_type": "code",
   "execution_count": 139,
   "id": "1b8d9725-16cc-4c0b-9866-07b0521ec413",
   "metadata": {},
   "outputs": [],
   "source": [
    "mha = MultiHeadAttention(HEADS, HEAD_DIM, EMBED_DIM, mask=True)\n",
    "multi = mha(do, do, do)"
   ]
  },
  {
   "cell_type": "code",
   "execution_count": 140,
   "id": "9c6ce4f7-1353-4d1c-b99f-8003f73309a9",
   "metadata": {},
   "outputs": [
    {
     "data": {
      "text/plain": [
       "(False, True)"
      ]
     },
     "execution_count": 140,
     "metadata": {},
     "output_type": "execute_result"
    }
   ],
   "source": [
    "torch.all(multi == do).item(), multi.size() == do.size() # we want this"
   ]
  },
  {
   "cell_type": "markdown",
   "id": "97f99fed-0da3-434c-accf-710e863e2573",
   "metadata": {
    "jp-MarkdownHeadingCollapsed": true
   },
   "source": [
    "## FeedForward"
   ]
  },
  {
   "cell_type": "code",
   "execution_count": 141,
   "id": "163dfb6f-68ae-4f12-b7b6-2db4766ea44a",
   "metadata": {},
   "outputs": [],
   "source": [
    "from model import FeedForward"
   ]
  },
  {
   "cell_type": "code",
   "execution_count": 142,
   "id": "18bae647-6543-4691-961b-322034129695",
   "metadata": {},
   "outputs": [
    {
     "data": {
      "text/plain": [
       "torch.Size([2, 3, 512])"
      ]
     },
     "execution_count": 142,
     "metadata": {},
     "output_type": "execute_result"
    }
   ],
   "source": [
    "ff = FeedForward(EMBED_DIM)\n",
    "ff(multi).size()"
   ]
  },
  {
   "cell_type": "code",
   "execution_count": 143,
   "id": "0ee6a304-4e8b-4760-8979-070a1e8ef2c4",
   "metadata": {},
   "outputs": [
    {
     "data": {
      "text/plain": [
       "torch.Size([2, 3, 512])"
      ]
     },
     "execution_count": 143,
     "metadata": {},
     "output_type": "execute_result"
    }
   ],
   "source": [
    "multi.size()"
   ]
  },
  {
   "cell_type": "markdown",
   "id": "26c291f6-d82f-4961-a4a5-1c491b2d92f1",
   "metadata": {
    "jp-MarkdownHeadingCollapsed": true
   },
   "source": [
    "## Encoder Block"
   ]
  },
  {
   "cell_type": "code",
   "execution_count": 144,
   "id": "8200dbc9-bc35-4162-ba20-70c0f1062fa8",
   "metadata": {},
   "outputs": [],
   "source": [
    "from model import EncoderBlock"
   ]
  },
  {
   "cell_type": "code",
   "execution_count": 145,
   "id": "9b02d459-61fd-44f0-a3ba-bd1f91d4d127",
   "metadata": {},
   "outputs": [],
   "source": [
    "eb = EncoderBlock(HEADS, EMBED_DIM)\n",
    "enc = eb(do)"
   ]
  },
  {
   "cell_type": "code",
   "execution_count": 146,
   "id": "42d32412-6995-45ee-8efe-7b2f02950374",
   "metadata": {},
   "outputs": [
    {
     "data": {
      "text/plain": [
       "torch.Size([2, 3, 512])"
      ]
     },
     "execution_count": 146,
     "metadata": {},
     "output_type": "execute_result"
    }
   ],
   "source": [
    "enc.size()"
   ]
  },
  {
   "cell_type": "markdown",
   "id": "0554440a-ee56-4a1a-b1e0-f866d2f20c31",
   "metadata": {
    "jp-MarkdownHeadingCollapsed": true
   },
   "source": [
    "## Decoder Block"
   ]
  },
  {
   "cell_type": "code",
   "execution_count": 147,
   "id": "95f9416b-1e73-40cb-85fd-f97e54026eb8",
   "metadata": {},
   "outputs": [],
   "source": [
    "from model import DecoderBlock"
   ]
  },
  {
   "cell_type": "code",
   "execution_count": 148,
   "id": "b33135be-68c0-4ff6-8053-0b84019301eb",
   "metadata": {},
   "outputs": [
    {
     "data": {
      "text/plain": [
       "torch.Size([2, 3, 512])"
      ]
     },
     "execution_count": 148,
     "metadata": {},
     "output_type": "execute_result"
    }
   ],
   "source": [
    "db = DecoderBlock(HEADS, EMBED_DIM)\n",
    "db(do, enc).size()"
   ]
  },
  {
   "cell_type": "markdown",
   "id": "b5426f9b-7d10-48d7-9ccf-3caf59129a93",
   "metadata": {
    "jp-MarkdownHeadingCollapsed": true
   },
   "source": [
    "## Positional Encodings"
   ]
  },
  {
   "cell_type": "code",
   "execution_count": 149,
   "id": "38406fee-4e0d-4ac7-aa25-1321e3d52a74",
   "metadata": {},
   "outputs": [
    {
     "data": {
      "image/png": "[encoded data removed]",
      "text/plain": [
       "<Figure size 1600x200 with 2 Axes>"
      ]
     },
     "metadata": {},
     "output_type": "display_data"
    }
   ],
   "source": [
    "def pos_encoding(max_len, d_model):\n",
    "    encoding = torch.zeros(max_len, d_model)\n",
    "    pow = 2 * torch.arange(0, d_model//2) / d_model\n",
    "    denom = 10_000 ** pow\n",
    "    pos = torch.arange(0, max_len).view(-1, 1)\n",
    "    encoding[:, ::2] = torch.sin(pos/denom)\n",
    "    encoding[:, 1::2] = torch.cos(pos/denom)\n",
    "    return encoding\n",
    "\n",
    "def plot_positional_encoding(pos_enc):\n",
    "    cax = plt.matshow(pos_enc.squeeze().numpy())\n",
    "    plt.gcf().colorbar(cax)\n",
    "    plt.xlabel('Dimension')\n",
    "    plt.ylabel('Position')\n",
    "    plt.show()\n",
    "\n",
    "# Example usage\n",
    "max_len = 3\n",
    "d_model = 512  # Adjust the dimensionality as needed\n",
    "pos_enc = pos_encoding(max_len, d_model)\n",
    "plot_positional_encoding(pos_enc)"
   ]
  },
  {
   "cell_type": "markdown",
   "id": "1ba60241-cfc5-441d-8794-8cd8ee632fef",
   "metadata": {},
   "source": [
    "## Transformer"
   ]
  },
  {
   "cell_type": "code",
   "execution_count": 150,
   "id": "4129bb2f-23d9-48cb-9f96-17b0d4b4bb5c",
   "metadata": {},
   "outputs": [],
   "source": [
    "from model import Transformer"
   ]
  },
  {
   "cell_type": "code",
   "execution_count": 151,
   "id": "22a8ba60-f5ea-40a9-a52b-5ac120655928",
   "metadata": {},
   "outputs": [],
   "source": [
    "VOCAB_SIZE = 300  # hyperparameter depending on the task\n",
    "HEADS = 8\n",
    "EMBED_DIM = 512\n",
    "HEAD_DIM = EMBED_DIM // HEADS\n",
    "CONTEXT = 10\n",
    "BATCH = 10\n",
    "D_PROB = 0.1"
   ]
  },
  {
   "cell_type": "code",
   "execution_count": 152,
   "id": "f66b1128-5486-4b75-98be-c9f04d367eef",
   "metadata": {},
   "outputs": [],
   "source": [
    "optimus = Transformer(6, HEADS, EMBED_DIM, VOCAB_SIZE, CONTEXT)"
   ]
  },
  {
   "cell_type": "code",
   "execution_count": 153,
   "id": "16143aec-25ec-47cb-b4a7-8c5c1be795a3",
   "metadata": {},
   "outputs": [],
   "source": [
    "pool = torch.randint(0, VOCAB_SIZE, (BATCH, CONTEXT+1))\n",
    "x = pool[:, :CONTEXT]\n",
    "trg = pool[:, 1:]\n",
    "y = pool[:, 1:]\n",
    "out = optimus(x, trg)"
   ]
  },
  {
   "cell_type": "code",
   "execution_count": 170,
   "id": "56fd6846-daec-4ef0-b292-10d500096c09",
   "metadata": {},
   "outputs": [
    {
     "data": {
      "text/plain": [
       "(10, 10, 300)"
      ]
     },
     "execution_count": 170,
     "metadata": {},
     "output_type": "execute_result"
    }
   ],
   "source": [
    "B, T, C = out.size()\n",
    "B, T, C"
   ]
  },
  {
   "cell_type": "code",
   "execution_count": 155,
   "id": "fe660a9d-fb15-49ec-a173-1bceb97a1de5",
   "metadata": {},
   "outputs": [
    {
     "data": {
      "text/plain": [
       "torch.Size([100, 300])"
      ]
     },
     "execution_count": 155,
     "metadata": {},
     "output_type": "execute_result"
    }
   ],
   "source": [
    "out.view(B*T, C).size()"
   ]
  },
  {
   "cell_type": "code",
   "execution_count": 156,
   "id": "ddae237c-863b-4cbb-8f56-edb478b22ac4",
   "metadata": {},
   "outputs": [
    {
     "data": {
      "text/plain": [
       "(torch.Size([10, 10]), torch.Size([10, 10]))"
      ]
     },
     "execution_count": 156,
     "metadata": {},
     "output_type": "execute_result"
    }
   ],
   "source": [
    "x.size(), y.size()"
   ]
  },
  {
   "cell_type": "code",
   "execution_count": 157,
   "id": "2391fc31-a662-4da1-b31c-acd216184f8b",
   "metadata": {},
   "outputs": [
    {
     "data": {
      "text/plain": [
       "tensor([258, 225,  11, 133, 151, 211, 115, 295,  77,  42, 265, 225,  38,   1,\n",
       "         52, 218, 103, 283,  87,   5,  64, 189,  93,  65, 294, 173, 262,  13,\n",
       "        279, 110, 214,  55, 168, 251, 203, 137, 273, 244,  25, 192, 197,  32,\n",
       "          4, 108, 186, 136,  76, 247, 245, 261,  21, 111,  86, 113,  42,  13,\n",
       "        139,  79, 262, 146, 153, 273, 227, 198,  95, 218, 279, 267,  67, 210,\n",
       "        213, 283,  15, 129, 129, 215, 251, 275, 125,  34, 181, 285,  30, 259,\n",
       "        268,  73, 237,  45, 268,  92, 162, 210,   8,  97, 175, 129,  77, 166,\n",
       "        156, 116])"
      ]
     },
     "execution_count": 157,
     "metadata": {},
     "output_type": "execute_result"
    }
   ],
   "source": [
    "y.reshape(B*T)"
   ]
  },
  {
   "cell_type": "code",
   "execution_count": 158,
   "id": "4a7453b0-b609-46ac-9bed-e2cdb8696438",
   "metadata": {},
   "outputs": [
    {
     "data": {
      "text/plain": [
       "tensor(5.7311, grad_fn=<NllLossBackward0>)"
      ]
     },
     "execution_count": 158,
     "metadata": {},
     "output_type": "execute_result"
    }
   ],
   "source": [
    "F.cross_entropy(out.view(B*T, C), y.reshape(B*T))"
   ]
  },
  {
   "cell_type": "markdown",
   "id": "87d2911f-54e1-4209-9365-be9853ce3576",
   "metadata": {},
   "source": [
    "## Dataset"
   ]
  },
  {
   "cell_type": "code",
   "execution_count": 159,
   "id": "075b3c70-daf3-468b-a881-57bb4853d542",
   "metadata": {},
   "outputs": [],
   "source": [
    "from torch.utils.data import Dataset, DataLoader\n",
    "from torch.nn.utils.rnn import pad_sequence\n",
    "import spacy\n",
    "import time\n",
    "\n",
    "class Paraphrase(Dataset):\n",
    "    def __init__(self, src_dir, trg_dir, nlp):\n",
    "        \"\"\"Initialization, we need a directory to load as well as tokenization framework\"\"\"\n",
    "        start = time.time()\n",
    "        self.nlp = nlp\n",
    "        src = self.open(src_dir)\n",
    "        trg = self.open(trg_dir)\n",
    "        data_pairs = list(zip(src, trg))\n",
    "        \n",
    "        # by itself this will take ~90 seconds, there's no real way to get around this besides compute\n",
    "        self.data = [(self.tokenize(doc), self.tokenize(summary)) for doc, summary in data_pairs]\n",
    "        \n",
    "        # just caching to make it much easier to access, save computation if needed\n",
    "        self._map()\n",
    "        self._max_context = max([len(src) for src, _ in self.data])\n",
    "        end = time.time()\n",
    "        print(f\"Total time for dataset initialization was {end - start}\")\n",
    "\n",
    "    def __len__(self):\n",
    "        \"\"\"Length method that is needed for PyTorch DataLoader\"\"\"\n",
    "        return len(self.data)\n",
    "\n",
    "    def __getitem__(self, idx):\n",
    "        \"\"\"Get item method that is also needed to PyTorch's DataLoader\"\"\"\n",
    "        src, trg = self.data[idx]\n",
    "        src = torch.tensor([self.stoi[s] for s in src])\n",
    "        trg = torch.tensor([self.stoi[t] for t in trg])\n",
    "        return (src, trg)\n",
    "\n",
    "    def _map(self):\n",
    "        \"\"\"Creates a string-to-index and index-to-string based on sorted vocab\"\"\"\n",
    "        self._vocabulary()\n",
    "        self.stoi = {v:i for v, i in zip(self.vocab, range(self.vocab_size()))}\n",
    "        self.itos = {i:v for v, i in zip(self.vocab, range(self.vocab_size()))}\n",
    "    \n",
    "    def map(self, map=\"both\"):\n",
    "        \"\"\"Getter method if we want to double check stoi and itos\"\"\"\n",
    "        try:\n",
    "            if map == \"itos\":\n",
    "                return self.itos\n",
    "            elif map == \"stoi\":\n",
    "                return self.stoi\n",
    "            elif map == \"both\":\n",
    "                return (self.itos, self.stoi)\n",
    "            else:\n",
    "                raise\n",
    "        except Exception as e:\n",
    "            raise AttributeError(f\"Takes stoi, itos, or both. You gave {map}\")\n",
    "\n",
    "    # need to find the max length so that we can pad accordingly\n",
    "    def _vocabulary(self):\n",
    "        \"\"\"Finding the unique words in the train and test set together for itos and stoi\"\"\"\n",
    "        train_set = set([token for train, _ in self.data for token in train])\n",
    "        test_set = set([token for _, test in self.data for token in test])\n",
    "        t = train_set | test_set\n",
    "        t.add(\"<p>\")\n",
    "        self.vocab = sorted(t)\n",
    "\n",
    "    def vocab(self):\n",
    "        \"\"\"Getter method to check the vocab if we need it\"\"\"\n",
    "        return self.vocab\n",
    "\n",
    "    def vocab_size(self):\n",
    "        \"\"\"Getter method for the vocab size\"\"\"\n",
    "        return len(self.vocab)\n",
    "\n",
    "    def max_context(self):\n",
    "        \"\"\"Getter method for returning the max context\"\"\"\n",
    "        return self._max_context\n",
    "\n",
    "    def tokenize(self, text):\n",
    "        \"\"\"Tokenization utilizing spaCy's tokenzation in list comprehension; tokens manually added since it's easier\"\"\"\n",
    "        t = [token.text.lower() for token in self.nlp.tokenizer(text)]\n",
    "        # it's easier if we manually add the tokens after spaCy's tokenization so we have more granularity\n",
    "        return [\"<s>\"] + t + [\"<e>\"]\n",
    "\n",
    "    def open(self, path):\n",
    "        \"\"\"Opening the files using utf-8\"\"\"\n",
    "        with open(path, 'r', encoding='utf-8') as file:\n",
    "            file = file.readlines()\n",
    "            file = [line.strip()for line in file]\n",
    "        return file"
   ]
  },
  {
   "cell_type": "code",
   "execution_count": 160,
   "id": "00d0620d-6d18-4e2a-b2d5-c53df3554a7e",
   "metadata": {},
   "outputs": [
    {
     "name": "stdout",
     "output_type": "stream",
     "text": [
      "Total time for dataset initialization was 95.70477771759033\n"
     ]
    }
   ],
   "source": [
    "spacy_en = spacy.load('en_core_web_sm')\n",
    "src_file_path = \"../../data/paraphrases/train/train.src\"\n",
    "tgt_file_path = \"../../data/paraphrases/train/train.tgt\"\n",
    "\n",
    "p = Paraphrase(src_file_path, tgt_file_path, spacy_en)"
   ]
  },
  {
   "cell_type": "markdown",
   "id": "b1366560-ac4a-4d8c-8b31-bee5ccde743e",
   "metadata": {},
   "source": [
    "tokenize -> turn entire trg and src into set -> get vocab size"
   ]
  },
  {
   "cell_type": "code",
   "execution_count": 161,
   "id": "ec2cba08-dddc-464f-900e-24e7eeea632b",
   "metadata": {},
   "outputs": [],
   "source": [
    "itos, stoi = p.map(\"both\")"
   ]
  },
  {
   "cell_type": "code",
   "execution_count": 162,
   "id": "d189c753-6b5e-42b3-9daf-9c33647f4fc9",
   "metadata": {},
   "outputs": [
    {
     "data": {
      "text/plain": [
       "2683"
      ]
     },
     "execution_count": 162,
     "metadata": {},
     "output_type": "execute_result"
    }
   ],
   "source": [
    "stoi[\"<p>\"]"
   ]
  },
  {
   "cell_type": "code",
   "execution_count": 163,
   "id": "8783d174-4d2c-46dc-b9a6-0eb2056af07e",
   "metadata": {},
   "outputs": [
    {
     "data": {
      "text/plain": [
       "'<s>'"
      ]
     },
     "execution_count": 163,
     "metadata": {},
     "output_type": "execute_result"
    }
   ],
   "source": [
    "itos[2684]"
   ]
  },
  {
   "cell_type": "code",
   "execution_count": 164,
   "id": "51769838-4ee6-4bd8-ad04-d43a1c9696c2",
   "metadata": {},
   "outputs": [
    {
     "data": {
      "text/plain": [
       "(tensor([ 2684,  7270, 45806, 64819, 68660, 21093,  9047, 66291,     2, 64819,\n",
       "         60294, 46077, 10724,  7527, 48284, 70843,  2685, 13726, 45806, 64819,\n",
       "         46291, 45469, 45089,     2,   820,  2682]),\n",
       " tensor([ 2684, 41595,     2,  6106, 24552, 35879, 33897,     2, 64819, 60294,\n",
       "         46077, 10724,  7527, 48284, 70843,  2685, 13726, 45806, 64819, 46291,\n",
       "         45469, 45089,     2,  3044, 65489, 64819, 68660, 21093,  9047, 66291,\n",
       "           820,  2682]))"
      ]
     },
     "execution_count": 164,
     "metadata": {},
     "output_type": "execute_result"
    }
   ],
   "source": [
    "p[2]"
   ]
  },
  {
   "cell_type": "code",
   "execution_count": 165,
   "id": "233a5a02-fe51-45d0-be5d-b71e50c4bf7a",
   "metadata": {},
   "outputs": [],
   "source": [
    "def custom_collate_fn(batch):\n",
    "    train = [t for t, _ in batch]\n",
    "    test = [t for _, t in batch]\n",
    "    \n",
    "    pad_src = pad_sequence(train, batch_first=True, padding_value=2683)\n",
    "    pad_trg = pad_sequence(test, batch_first=True, padding_value=2683)\n",
    "\n",
    "    return pad_src, pad_trg"
   ]
  },
  {
   "cell_type": "code",
   "execution_count": 166,
   "id": "af9a7db5-5429-4533-9f90-88d9d038f61b",
   "metadata": {},
   "outputs": [],
   "source": [
    "d = DataLoader(p, batch_size=64, collate_fn=custom_collate_fn)"
   ]
  },
  {
   "cell_type": "code",
   "execution_count": 167,
   "id": "0cc72ac6-2ba4-461d-942c-7f3f2967747f",
   "metadata": {},
   "outputs": [],
   "source": [
    "VOCAB_SIZE = p.vocab_size()\n",
    "CONTEXT = p.max_context()\n",
    "optimus = Transformer(6, HEADS, EMBED_DIM, VOCAB_SIZE, CONTEXT)"
   ]
  },
  {
   "cell_type": "code",
   "execution_count": 168,
   "id": "960575ba-42d7-462b-89e6-8cf711129e93",
   "metadata": {},
   "outputs": [],
   "source": [
    "in_emb = optimus.in_emb\n",
    "out_emb = optimus.out_emb\n",
    "pos = optimus.pos_enc"
   ]
  },
  {
   "cell_type": "code",
   "execution_count": 184,
   "id": "adf43d68-56c9-4d46-b561-a66c80294c27",
   "metadata": {
    "scrolled": true
   },
   "outputs": [
    {
     "name": "stdout",
     "output_type": "stream",
     "text": [
      "torch.Size([64, 1])\n",
      "torch.Size([64, 2])\n",
      "torch.Size([64, 3])\n",
      "torch.Size([64, 4])\n",
      "torch.Size([64, 5])\n",
      "torch.Size([64, 6])\n",
      "torch.Size([64, 7])\n",
      "torch.Size([64, 8])\n",
      "torch.Size([64, 9])\n",
      "torch.Size([64, 10])\n",
      "torch.Size([64, 11])\n",
      "torch.Size([64, 12])\n",
      "torch.Size([64, 13])\n",
      "torch.Size([64, 14])\n",
      "torch.Size([64, 15])\n",
      "torch.Size([64, 16])\n",
      "torch.Size([64, 17])\n",
      "torch.Size([64, 18])\n",
      "torch.Size([64, 19])\n",
      "torch.Size([64, 20])\n",
      "torch.Size([64, 21])\n",
      "torch.Size([64, 22])\n",
      "torch.Size([64, 23])\n",
      "torch.Size([64, 24])\n",
      "torch.Size([64, 25])\n",
      "torch.Size([64, 26])\n",
      "torch.Size([64, 27])\n",
      "torch.Size([64, 28])\n",
      "torch.Size([64, 29])\n",
      "torch.Size([64, 30])\n",
      "torch.Size([64, 31])\n",
      "torch.Size([64, 32])\n",
      "torch.Size([64, 33])\n",
      "torch.Size([64, 34])\n",
      "torch.Size([64, 35])\n",
      "torch.Size([64, 36])\n",
      "torch.Size([64, 37])\n",
      "torch.Size([64, 38])\n",
      "torch.Size([64, 39])\n"
     ]
    }
   ],
   "source": [
    "for i, t in d:\n",
    "    B, T = t.size()\n",
    "    try:\n",
    "        # _, Ta = i.size()\n",
    "        # _, Tb = t.size()\n",
    "        # a = in_emb(i) + pos[:Ta]\n",
    "        # b = out_emb(t) + pos[:Tb]\n",
    "        for i in range(1, T):\n",
    "            print(t[:, :i].size())\n",
    "    except Exception as e:\n",
    "        print(e)\n",
    "\n",
    "    break"
   ]
  },
  {
   "cell_type": "code",
   "execution_count": 172,
   "id": "6dffab95-adbe-4b74-a25e-7ca5c5e5b46b",
   "metadata": {},
   "outputs": [
    {
     "data": {
      "text/plain": [
       "[1]"
      ]
     },
     "execution_count": 172,
     "metadata": {},
     "output_type": "execute_result"
    }
   ],
   "source": []
  },
  {
   "cell_type": "code",
   "execution_count": null,
   "id": "885aabbe-6680-41e7-86dc-3420e8e6c88d",
   "metadata": {},
   "outputs": [],
   "source": []
  }
 ],
 "metadata": {
  "kernelspec": {
   "display_name": "Python 3 (ipykernel)",
   "language": "python",
   "name": "python3"
  },
  "language_info": {
   "codemirror_mode": {
    "name": "ipython",
    "version": 3
   },
   "file_extension": ".py",
   "mimetype": "text/x-python",
   "name": "python",
   "nbconvert_exporter": "python",
   "pygments_lexer": "ipython3",
   "version": "3.10.0"
  }
 },
 "nbformat": 4,
 "nbformat_minor": 5
}

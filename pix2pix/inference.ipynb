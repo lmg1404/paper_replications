{
  "cells": [
    {
      "cell_type": "markdown",
      "metadata": {
        "id": "997fcc6e-f37f-4711-b2e9-94575759c457"
      },
      "source": [
        "## Import Dependencies"
      ],
      "id": "997fcc6e-f37f-4711-b2e9-94575759c457"
    },
    {
      "cell_type": "code",
      "execution_count": null,
      "metadata": {
        "colab": {
          "base_uri": "https://localhost:8080/"
        },
        "id": "sGL6J-uEqN2U",
        "outputId": "3d421bc9-b2e6-47ac-e693-debff80e44c5"
      },
      "outputs": [
        {
          "output_type": "stream",
          "name": "stdout",
          "text": [
            "Drive already mounted at /content/gdrive; to attempt to forcibly remount, call drive.mount(\"/content/gdrive\", force_remount=True).\n",
            "[Errno 2] No such file or directory: 'gdrive/MyDrive/project_folder/paper_replications/'\n",
            "/content/gdrive/MyDrive/project_folder/paper_replications/pix2pix\n",
            "Updating c28a4fb..8d9247f\n",
            "error: Your local changes to the following files would be overwritten by merge:\n",
            "\tpix2pix/inference.ipynb\n",
            "Please commit your changes or stash them before you merge.\n",
            "error: The following untracked working tree files would be overwritten by merge:\n",
            "\tdc_gan/inference.ipynb\n",
            "Please move or remove them before you merge.\n",
            "Aborting\n",
            "[Errno 2] No such file or directory: 'pix2pix'\n",
            "/content/gdrive/MyDrive/project_folder/paper_replications/pix2pix\n"
          ]
        }
      ],
      "source": [
        "from google.colab import drive\n",
        "drive.mount('/content/gdrive')\n",
        "\n",
        "%cd gdrive/MyDrive/project_folder/paper_replications/\n",
        "\n",
        "! git pull\n",
        "\n",
        "%cd pix2pix"
      ],
      "id": "sGL6J-uEqN2U"
    },
    {
      "cell_type": "code",
      "source": [],
      "metadata": {
        "id": "nfA3oS5_TArC"
      },
      "id": "nfA3oS5_TArC",
      "execution_count": null,
      "outputs": []
    },
    {
      "cell_type": "code",
      "execution_count": null,
      "metadata": {
        "id": "df7d18e3-3798-4087-9c57-e862941dcdc8"
      },
      "outputs": [],
      "source": [
        "from pathlib import Path\n",
        "from PIL import Image\n",
        "from torch.utils.data import Dataset\n",
        "from numpy import random\n",
        "import torchvision\n",
        "import torch\n",
        "import torchvision.transforms as transforms\n",
        "import matplotlib.pyplot as plt\n",
        "import numpy as np\n",
        "from IPython.display import display, clear_output\n",
        "import os\n",
        "os.environ[\"KMP_DUPLICATE_LIB_OK\"]=\"TRUE\""
      ],
      "id": "df7d18e3-3798-4087-9c57-e862941dcdc8"
    },
    {
      "cell_type": "markdown",
      "metadata": {
        "id": "c4e52562-50cd-41d8-abca-ba0435b8985d"
      },
      "source": [
        "## Import Models"
      ],
      "id": "c4e52562-50cd-41d8-abca-ba0435b8985d"
    },
    {
      "cell_type": "code",
      "execution_count": null,
      "metadata": {
        "id": "5ac80391-856b-47cc-9022-fb6febc9ee45"
      },
      "outputs": [],
      "source": [
        "from models import Generator, Discriminator, Facades"
      ],
      "id": "5ac80391-856b-47cc-9022-fb6febc9ee45"
    },
    {
      "cell_type": "markdown",
      "metadata": {
        "id": "cdaf4bff-9237-4f48-beed-3390d7c44fc8"
      },
      "source": [
        "## Import Trained Parameters"
      ],
      "id": "cdaf4bff-9237-4f48-beed-3390d7c44fc8"
    },
    {
      "cell_type": "code",
      "execution_count": null,
      "metadata": {
        "id": "4e337779-7635-4e45-8ab8-2fdbd6df3fd0"
      },
      "outputs": [],
      "source": [
        "checkpoint = torch.load(\"Pix2Pix.pth\", map_location=torch.device('cpu'))"
      ],
      "id": "4e337779-7635-4e45-8ab8-2fdbd6df3fd0"
    },
    {
      "cell_type": "markdown",
      "metadata": {
        "id": "ad085677-8ed3-4eec-ad7d-5a6073f494de"
      },
      "source": [
        "## Put Parameters into Models"
      ],
      "id": "ad085677-8ed3-4eec-ad7d-5a6073f494de"
    },
    {
      "cell_type": "code",
      "execution_count": null,
      "metadata": {
        "colab": {
          "base_uri": "https://localhost:8080/",
          "height": 315
        },
        "id": "4759f7ad-8143-4750-88b4-40c02cda86c9",
        "outputId": "672aa934-e744-4d30-8000-5344a5bd8473"
      },
      "outputs": [
        {
          "output_type": "error",
          "ename": "RuntimeError",
          "evalue": "Error(s) in loading state_dict for Generator:\n\tUnexpected key(s) in state_dict: \"final.0.bias\". ",
          "traceback": [
            "\u001b[0;31m---------------------------------------------------------------------------\u001b[0m",
            "\u001b[0;31mRuntimeError\u001b[0m                              Traceback (most recent call last)",
            "\u001b[0;32m<ipython-input-6-df361bf002da>\u001b[0m in \u001b[0;36m<cell line: 2>\u001b[0;34m()\u001b[0m\n\u001b[1;32m      1\u001b[0m \u001b[0mpix2pix\u001b[0m \u001b[0;34m=\u001b[0m \u001b[0mGenerator\u001b[0m\u001b[0;34m(\u001b[0m\u001b[0;34m)\u001b[0m\u001b[0;34m\u001b[0m\u001b[0;34m\u001b[0m\u001b[0m\n\u001b[0;32m----> 2\u001b[0;31m \u001b[0mpix2pix\u001b[0m\u001b[0;34m.\u001b[0m\u001b[0mload_state_dict\u001b[0m\u001b[0;34m(\u001b[0m\u001b[0mcheckpoint\u001b[0m\u001b[0;34m[\u001b[0m\u001b[0;34m'gen_state_dict'\u001b[0m\u001b[0;34m]\u001b[0m\u001b[0;34m)\u001b[0m\u001b[0;34m\u001b[0m\u001b[0;34m\u001b[0m\u001b[0m\n\u001b[0m\u001b[1;32m      3\u001b[0m \u001b[0mpix2pix\u001b[0m \u001b[0;34m=\u001b[0m \u001b[0mpix2pix\u001b[0m\u001b[0;34m.\u001b[0m\u001b[0meval\u001b[0m\u001b[0;34m(\u001b[0m\u001b[0;34m)\u001b[0m\u001b[0;34m\u001b[0m\u001b[0;34m\u001b[0m\u001b[0m\n",
            "\u001b[0;32m/usr/local/lib/python3.10/dist-packages/torch/nn/modules/module.py\u001b[0m in \u001b[0;36mload_state_dict\u001b[0;34m(self, state_dict, strict, assign)\u001b[0m\n\u001b[1;32m   2151\u001b[0m \u001b[0;34m\u001b[0m\u001b[0m\n\u001b[1;32m   2152\u001b[0m         \u001b[0;32mif\u001b[0m \u001b[0mlen\u001b[0m\u001b[0;34m(\u001b[0m\u001b[0merror_msgs\u001b[0m\u001b[0;34m)\u001b[0m \u001b[0;34m>\u001b[0m \u001b[0;36m0\u001b[0m\u001b[0;34m:\u001b[0m\u001b[0;34m\u001b[0m\u001b[0;34m\u001b[0m\u001b[0m\n\u001b[0;32m-> 2153\u001b[0;31m             raise RuntimeError('Error(s) in loading state_dict for {}:\\n\\t{}'.format(\n\u001b[0m\u001b[1;32m   2154\u001b[0m                                self.__class__.__name__, \"\\n\\t\".join(error_msgs)))\n\u001b[1;32m   2155\u001b[0m         \u001b[0;32mreturn\u001b[0m \u001b[0m_IncompatibleKeys\u001b[0m\u001b[0;34m(\u001b[0m\u001b[0mmissing_keys\u001b[0m\u001b[0;34m,\u001b[0m \u001b[0munexpected_keys\u001b[0m\u001b[0;34m)\u001b[0m\u001b[0;34m\u001b[0m\u001b[0;34m\u001b[0m\u001b[0m\n",
            "\u001b[0;31mRuntimeError\u001b[0m: Error(s) in loading state_dict for Generator:\n\tUnexpected key(s) in state_dict: \"final.0.bias\". "
          ]
        }
      ],
      "source": [
        "pix2pix = Generator()\n",
        "pix2pix.load_state_dict(checkpoint['gen_state_dict'])\n",
        "pix2pix = pix2pix.eval()"
      ],
      "id": "4759f7ad-8143-4750-88b4-40c02cda86c9"
    },
    {
      "cell_type": "code",
      "source": [
        "Generator()"
      ],
      "metadata": {
        "colab": {
          "base_uri": "https://localhost:8080/"
        },
        "id": "pmeBbAxRSDHC",
        "outputId": "4f058b25-211c-4613-80e1-d7fe4cb59a62"
      },
      "id": "pmeBbAxRSDHC",
      "execution_count": null,
      "outputs": [
        {
          "output_type": "execute_result",
          "data": {
            "text/plain": [
              "Generator(\n",
              "  (down1): Sequential(\n",
              "    (0): Conv2d(3, 64, kernel_size=(4, 4), stride=(2, 2), padding=(1, 1), bias=False, padding_mode=reflect)\n",
              "    (1): LeakyReLU(negative_slope=0.2)\n",
              "  )\n",
              "  (down2): Sequential(\n",
              "    (0): Conv2d(64, 128, kernel_size=(4, 4), stride=(2, 2), padding=(1, 1), bias=False, padding_mode=reflect)\n",
              "    (1): BatchNorm2d(128, eps=1e-05, momentum=0.1, affine=True, track_running_stats=True)\n",
              "    (2): LeakyReLU(negative_slope=0.2)\n",
              "  )\n",
              "  (down3): Sequential(\n",
              "    (0): Conv2d(128, 256, kernel_size=(4, 4), stride=(2, 2), padding=(1, 1), bias=False, padding_mode=reflect)\n",
              "    (1): BatchNorm2d(256, eps=1e-05, momentum=0.1, affine=True, track_running_stats=True)\n",
              "    (2): LeakyReLU(negative_slope=0.2)\n",
              "  )\n",
              "  (down4): Sequential(\n",
              "    (0): Conv2d(256, 512, kernel_size=(4, 4), stride=(2, 2), padding=(1, 1), bias=False, padding_mode=reflect)\n",
              "    (1): BatchNorm2d(512, eps=1e-05, momentum=0.1, affine=True, track_running_stats=True)\n",
              "    (2): LeakyReLU(negative_slope=0.2)\n",
              "  )\n",
              "  (down5): Sequential(\n",
              "    (0): Conv2d(512, 512, kernel_size=(4, 4), stride=(2, 2), padding=(1, 1), bias=False, padding_mode=reflect)\n",
              "    (1): BatchNorm2d(512, eps=1e-05, momentum=0.1, affine=True, track_running_stats=True)\n",
              "    (2): LeakyReLU(negative_slope=0.2)\n",
              "  )\n",
              "  (down6): Sequential(\n",
              "    (0): Conv2d(512, 512, kernel_size=(4, 4), stride=(2, 2), padding=(1, 1), bias=False, padding_mode=reflect)\n",
              "    (1): BatchNorm2d(512, eps=1e-05, momentum=0.1, affine=True, track_running_stats=True)\n",
              "    (2): LeakyReLU(negative_slope=0.2)\n",
              "  )\n",
              "  (down7): Sequential(\n",
              "    (0): Conv2d(512, 512, kernel_size=(4, 4), stride=(2, 2), padding=(1, 1), bias=False, padding_mode=reflect)\n",
              "    (1): BatchNorm2d(512, eps=1e-05, momentum=0.1, affine=True, track_running_stats=True)\n",
              "    (2): LeakyReLU(negative_slope=0.2)\n",
              "  )\n",
              "  (down8): Sequential(\n",
              "    (0): Conv2d(512, 512, kernel_size=(4, 4), stride=(2, 2), padding=(1, 1), bias=False, padding_mode=reflect)\n",
              "    (1): LeakyReLU(negative_slope=0.2)\n",
              "  )\n",
              "  (up1): Sequential(\n",
              "    (0): ConvTranspose2d(512, 512, kernel_size=(4, 4), stride=(2, 2), padding=(1, 1), bias=False)\n",
              "    (1): BatchNorm2d(512, eps=1e-05, momentum=0.1, affine=True, track_running_stats=True)\n",
              "    (2): Dropout2d(p=0.5, inplace=False)\n",
              "    (3): LeakyReLU(negative_slope=0.2)\n",
              "  )\n",
              "  (up2): Sequential(\n",
              "    (0): ConvTranspose2d(1024, 512, kernel_size=(4, 4), stride=(2, 2), padding=(1, 1), bias=False)\n",
              "    (1): BatchNorm2d(512, eps=1e-05, momentum=0.1, affine=True, track_running_stats=True)\n",
              "    (2): Dropout2d(p=0.5, inplace=False)\n",
              "    (3): LeakyReLU(negative_slope=0.2)\n",
              "  )\n",
              "  (up3): Sequential(\n",
              "    (0): ConvTranspose2d(1024, 512, kernel_size=(4, 4), stride=(2, 2), padding=(1, 1), bias=False)\n",
              "    (1): BatchNorm2d(512, eps=1e-05, momentum=0.1, affine=True, track_running_stats=True)\n",
              "    (2): Dropout2d(p=0.5, inplace=False)\n",
              "    (3): LeakyReLU(negative_slope=0.2)\n",
              "  )\n",
              "  (up4): Sequential(\n",
              "    (0): ConvTranspose2d(1024, 512, kernel_size=(4, 4), stride=(2, 2), padding=(1, 1), bias=False)\n",
              "    (1): BatchNorm2d(512, eps=1e-05, momentum=0.1, affine=True, track_running_stats=True)\n",
              "    (2): Dropout2d(p=0.5, inplace=False)\n",
              "    (3): LeakyReLU(negative_slope=0.2)\n",
              "  )\n",
              "  (up5): Sequential(\n",
              "    (0): ConvTranspose2d(1024, 256, kernel_size=(4, 4), stride=(2, 2), padding=(1, 1), bias=False)\n",
              "    (1): BatchNorm2d(256, eps=1e-05, momentum=0.1, affine=True, track_running_stats=True)\n",
              "    (2): Dropout2d(p=0.5, inplace=False)\n",
              "    (3): LeakyReLU(negative_slope=0.2)\n",
              "  )\n",
              "  (up6): Sequential(\n",
              "    (0): ConvTranspose2d(512, 128, kernel_size=(4, 4), stride=(2, 2), padding=(1, 1), bias=False)\n",
              "    (1): BatchNorm2d(128, eps=1e-05, momentum=0.1, affine=True, track_running_stats=True)\n",
              "    (2): Dropout2d(p=0.5, inplace=False)\n",
              "    (3): LeakyReLU(negative_slope=0.2)\n",
              "  )\n",
              "  (up7): Sequential(\n",
              "    (0): ConvTranspose2d(256, 64, kernel_size=(4, 4), stride=(2, 2), padding=(1, 1), bias=False)\n",
              "    (1): BatchNorm2d(64, eps=1e-05, momentum=0.1, affine=True, track_running_stats=True)\n",
              "    (2): Dropout2d(p=0.5, inplace=False)\n",
              "    (3): LeakyReLU(negative_slope=0.2)\n",
              "  )\n",
              "  (final): Sequential(\n",
              "    (0): ConvTranspose2d(128, 3, kernel_size=(4, 4), stride=(2, 2), padding=(1, 1), bias=False)\n",
              "    (1): Tanh()\n",
              "  )\n",
              ")"
            ]
          },
          "metadata": {},
          "execution_count": 11
        }
      ]
    },
    {
      "cell_type": "markdown",
      "metadata": {
        "id": "0e4934bb-6bf4-4855-b2a5-c0dfe10e4954"
      },
      "source": [
        "## Load Some Images to See How the Model Did"
      ],
      "id": "0e4934bb-6bf4-4855-b2a5-c0dfe10e4954"
    },
    {
      "cell_type": "code",
      "execution_count": null,
      "metadata": {
        "id": "3e887e4f-7c99-4924-b984-bdd5fd5290fb"
      },
      "outputs": [],
      "source": [
        "facades = Facades(targ_dir=\"../data/facades/test\")"
      ],
      "id": "3e887e4f-7c99-4924-b984-bdd5fd5290fb"
    },
    {
      "cell_type": "code",
      "execution_count": null,
      "metadata": {
        "id": "6908e8c9-a10a-4c6b-92a8-9c5a3d5f8d9e"
      },
      "outputs": [],
      "source": [
        "def slideshow_facades() -> None:\n",
        "    _, axarr = plt.subplots(1 ,2, figsize=(12, 6))\n",
        "\n",
        "    r_num = np.random.randint(0, len(facades))\n",
        "    real, input = facades[r_num]\n",
        "    real = real.numpy()\n",
        "    input = input.numpy()\n",
        "\n",
        "    axarr[0].imshow(np.transpose(real,  (1, 2, 0)))\n",
        "    axarr[1].imshow(np.transpose(input, (1, 2, 0)))\n",
        "\n",
        "    axarr[0].title.set_text(f\"Real: {real.shape}\")\n",
        "    axarr[1].title.set_text(f\"Input: {input.shape}\")\n",
        "\n",
        "    axarr[0].axis('off')\n",
        "    axarr[1].axis('off')"
      ],
      "id": "6908e8c9-a10a-4c6b-92a8-9c5a3d5f8d9e"
    },
    {
      "cell_type": "code",
      "execution_count": null,
      "metadata": {
        "id": "b94791f1-de6d-40fb-9ff4-44c033754df8"
      },
      "outputs": [],
      "source": [
        "for _ in range(5):\n",
        "    slideshow_facades()"
      ],
      "id": "b94791f1-de6d-40fb-9ff4-44c033754df8"
    },
    {
      "cell_type": "code",
      "execution_count": null,
      "metadata": {
        "id": "313780e5-e8d0-40fd-92a6-1078c377e2fc"
      },
      "outputs": [],
      "source": [
        "real, input = facades[0]\n",
        "real, input = real[None, :], input[None, :]\n",
        "out = pix2pix(input)\n",
        "print((real - out).sum())\n",
        "out = out[0].detach().numpy()\n",
        "plt.imshow(np.transpose(out, (1, 2, 0)))"
      ],
      "id": "313780e5-e8d0-40fd-92a6-1078c377e2fc"
    },
    {
      "cell_type": "code",
      "execution_count": null,
      "metadata": {
        "id": "d28c5aef-4a65-4924-8283-4096420f2344"
      },
      "outputs": [],
      "source": [
        "plt.imshow(np.transpose(real[0].detach().numpy(), (1, 2, 0)))"
      ],
      "id": "d28c5aef-4a65-4924-8283-4096420f2344"
    },
    {
      "cell_type": "code",
      "execution_count": null,
      "metadata": {
        "id": "ut-tASZpP53P"
      },
      "outputs": [],
      "source": [],
      "id": "ut-tASZpP53P"
    }
  ],
  "metadata": {
    "colab": {
      "provenance": []
    },
    "kernelspec": {
      "display_name": "Python 3 (ipykernel)",
      "language": "python",
      "name": "python3"
    },
    "language_info": {
      "codemirror_mode": {
        "name": "ipython",
        "version": 3
      },
      "file_extension": ".py",
      "mimetype": "text/x-python",
      "name": "python",
      "nbconvert_exporter": "python",
      "pygments_lexer": "ipython3",
      "version": "3.10.0"
    }
  },
  "nbformat": 4,
  "nbformat_minor": 5
}